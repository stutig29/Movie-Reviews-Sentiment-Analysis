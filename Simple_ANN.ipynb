{
  "nbformat": 4,
  "nbformat_minor": 0,
  "metadata": {
    "colab": {
      "name": "Simple_ANN",
      "version": "0.3.2",
      "provenance": [],
      "collapsed_sections": []
    },
    "kernelspec": {
      "name": "python3",
      "display_name": "Python 3"
    }
  },
  "cells": [
    {
      "cell_type": "code",
      "metadata": {
        "id": "XsXb0AE6Q01_",
        "colab_type": "code",
        "outputId": "4af10a5b-1608-4a13-ff5c-4a992673421c",
        "colab": {
          "base_uri": "https://localhost:8080/",
          "height": 52
        }
      },
      "source": [
        "import tensorflow as tf\n",
        "from tensorflow.keras import layers\n",
        "\n",
        "print(tf.version.VERSION)\n",
        "print(tf.keras.__version__)\n",
        "\n"
      ],
      "execution_count": 1,
      "outputs": [
        {
          "output_type": "stream",
          "text": [
            "1.14.0\n",
            "2.2.4-tf\n"
          ],
          "name": "stdout"
        }
      ]
    },
    {
      "cell_type": "code",
      "metadata": {
        "id": "5aTcjRizQ-UI",
        "colab_type": "code",
        "colab": {}
      },
      "source": [
        "import numpy as np\n",
        "import re\n",
        "import pandas as pd"
      ],
      "execution_count": 0,
      "outputs": []
    },
    {
      "cell_type": "code",
      "metadata": {
        "id": "8Jf47Yi9REeq",
        "colab_type": "code",
        "colab": {}
      },
      "source": [
        "def preprocess_text(text):\n",
        "    text= re.sub(r\"^\\s+|(@[A-Za-z]+)|([^A-Za-z \\t])|(,\\w+:\\/\\/\\S+)\",\" \",text)\n",
        "    text=\" \".join(text.split())\n",
        "    text= text.lower()\n",
        "    return text"
      ],
      "execution_count": 0,
      "outputs": []
    },
    {
      "cell_type": "code",
      "metadata": {
        "id": "Qa91Y6ntRMKr",
        "colab_type": "code",
        "outputId": "6b069a95-e770-43d9-9ae6-aaba9adbacc1",
        "colab": {
          "base_uri": "https://localhost:8080/",
          "height": 140
        }
      },
      "source": [
        "train = pd.read_table(\"/content/train.tsv\")\n",
        "print(train.columns)\n",
        "print(train.shape)\n",
        "test = pd.read_table(\"/content/test.tsv\")\n",
        "print(test.columns)\n"
      ],
      "execution_count": 4,
      "outputs": [
        {
          "output_type": "stream",
          "text": [
            "/usr/local/lib/python3.6/dist-packages/ipykernel_launcher.py:1: FutureWarning: read_table is deprecated, use read_csv instead, passing sep='\\t'.\n",
            "  \"\"\"Entry point for launching an IPython kernel.\n"
          ],
          "name": "stderr"
        },
        {
          "output_type": "stream",
          "text": [
            "Index(['PhraseId', 'SentenceId', 'Phrase', 'Sentiment'], dtype='object')\n",
            "(156060, 4)\n",
            "Index(['PhraseId', 'SentenceId', 'Phrase'], dtype='object')\n"
          ],
          "name": "stdout"
        },
        {
          "output_type": "stream",
          "text": [
            "/usr/local/lib/python3.6/dist-packages/ipykernel_launcher.py:4: FutureWarning: read_table is deprecated, use read_csv instead, passing sep='\\t'.\n",
            "  after removing the cwd from sys.path.\n"
          ],
          "name": "stderr"
        }
      ]
    },
    {
      "cell_type": "code",
      "metadata": {
        "id": "adODXv32dkxw",
        "colab_type": "code",
        "outputId": "85e1ea50-00eb-4310-a22d-e32d150c598e",
        "colab": {
          "base_uri": "https://localhost:8080/",
          "height": 105
        }
      },
      "source": [
        "print(train.dtypes)"
      ],
      "execution_count": 5,
      "outputs": [
        {
          "output_type": "stream",
          "text": [
            "PhraseId       int64\n",
            "SentenceId     int64\n",
            "Phrase        object\n",
            "Sentiment      int64\n",
            "dtype: object\n"
          ],
          "name": "stdout"
        }
      ]
    },
    {
      "cell_type": "code",
      "metadata": {
        "id": "Y8w7yh20RcMN",
        "colab_type": "code",
        "colab": {}
      },
      "source": [
        "train['Phrase'] = train['Phrase'].apply(lambda x: preprocess_text(x))\n",
        "test['Sent'] = test['Phrase'].apply(lambda x: preprocess_text(x))"
      ],
      "execution_count": 0,
      "outputs": []
    },
    {
      "cell_type": "code",
      "metadata": {
        "id": "W5aDWvUKRsga",
        "colab_type": "code",
        "colab": {}
      },
      "source": [
        "#print(train['Sentiment'].value_counts().plot(kind='bar'))"
      ],
      "execution_count": 0,
      "outputs": []
    },
    {
      "cell_type": "code",
      "metadata": {
        "id": "EYuP5kMSSOKx",
        "colab_type": "code",
        "colab": {}
      },
      "source": [
        "#print(train.isna().sum())"
      ],
      "execution_count": 0,
      "outputs": []
    },
    {
      "cell_type": "code",
      "metadata": {
        "id": "QoEXDb8GTQFP",
        "colab_type": "code",
        "colab": {}
      },
      "source": [
        "updated_labels=[]\n",
        "for i in range(train.shape[0]):\n",
        "  if train['Sentiment'][i]==0:\n",
        "    # 1 for negative\n",
        "    updated_labels.append(1)\n",
        "  elif train['Sentiment'][i]==4:\n",
        "    # 3 for positive\n",
        "    updated_labels.append(3)\n",
        "  else:\n",
        "    # 2 for for neutral\n",
        "    updated_labels.append(train['Sentiment'][i])\n",
        "train['Sentiment']=updated_labels"
      ],
      "execution_count": 0,
      "outputs": []
    },
    {
      "cell_type": "code",
      "metadata": {
        "id": "K8QbxXnnUXU8",
        "colab_type": "code",
        "outputId": "d00c2c0a-fdf4-465a-a943-1538d2660b7d",
        "colab": {
          "base_uri": "https://localhost:8080/",
          "height": 282
        }
      },
      "source": [
        "print(train['Sentiment'].value_counts().plot(kind='bar'))"
      ],
      "execution_count": 10,
      "outputs": [
        {
          "output_type": "stream",
          "text": [
            "AxesSubplot(0.125,0.125;0.775x0.755)\n"
          ],
          "name": "stdout"
        },
        {
          "output_type": "display_data",
          "data": {
            "image/png": "[encoded data removed]",
            "text/plain": [
              "<Figure size 432x288 with 1 Axes>"
            ]
          },
          "metadata": {
            "tags": []
          }
        }
      ]
    },
    {
      "cell_type": "code",
      "metadata": {
        "id": "FBmjFuewUkN3",
        "colab_type": "code",
        "outputId": "2c108412-057f-4cfa-98bc-ac02808c01d7",
        "colab": {
          "base_uri": "https://localhost:8080/",
          "height": 52
        }
      },
      "source": [
        "import nltk\n",
        "nltk.download('stopwords')\n",
        "from nltk.corpus import stopwords\n",
        "stop = set(stopwords.words('english'))\n",
        "def remove_stopwords(text):\n",
        "    no_stopword_text = [w for w in text.split() if not w in stop]\n",
        "    return ' '.join(no_stopword_text)"
      ],
      "execution_count": 11,
      "outputs": [
        {
          "output_type": "stream",
          "text": [
            "[nltk_data] Downloading package stopwords to /root/nltk_data...\n",
            "[nltk_data]   Package stopwords is already up-to-date!\n"
          ],
          "name": "stdout"
        }
      ]
    },
    {
      "cell_type": "code",
      "metadata": {
        "id": "nsxFKcrxWHIU",
        "colab_type": "code",
        "colab": {}
      },
      "source": [
        "train['Phrase'] = train['Phrase'].apply(lambda x: remove_stopwords(x))\n",
        "test['Sent'] =  test['Sent'].apply(lambda x: remove_stopwords(x))"
      ],
      "execution_count": 0,
      "outputs": []
    },
    {
      "cell_type": "code",
      "metadata": {
        "id": "-k4GgFL-WsKX",
        "colab_type": "code",
        "colab": {}
      },
      "source": [
        "for i in range(len(train['Phrase'])):\n",
        "  if train['Phrase'][i]=='':\n",
        "    train.drop([i],axis=0,inplace=True)\n",
        "train.reset_index(inplace=True)\n",
        "for i in range(len(test['Phrase'])):\n",
        "  if test['Sent'][i]=='':\n",
        "    test.drop([i],axis=0,inplace=True)\n",
        "test.reset_index(inplace=True)\n",
        "    "
      ],
      "execution_count": 0,
      "outputs": []
    },
    {
      "cell_type": "code",
      "metadata": {
        "id": "qoWZR3NWXxav",
        "colab_type": "code",
        "outputId": "281617c4-969a-4b9e-8966-5f9859fbedbc",
        "colab": {
          "base_uri": "https://localhost:8080/",
          "height": 52
        }
      },
      "source": [
        "from nltk.stem import WordNetLemmatizer\n",
        "nltk.download('wordnet')\n",
        "lemmatizer = WordNetLemmatizer()\n",
        "def lemmatize(text):\n",
        "    split=text.split(' ')\n",
        "    lem_sen=' '.join([lemmatizer.lemmatize(w,'v') for w in split])\n",
        "    return lem_sen"
      ],
      "execution_count": 14,
      "outputs": [
        {
          "output_type": "stream",
          "text": [
            "[nltk_data] Downloading package wordnet to /root/nltk_data...\n",
            "[nltk_data]   Package wordnet is already up-to-date!\n"
          ],
          "name": "stdout"
        }
      ]
    },
    {
      "cell_type": "code",
      "metadata": {
        "id": "Q64dwi-ZYy04",
        "colab_type": "code",
        "colab": {}
      },
      "source": [
        "train['Phrase']= train['Phrase'].apply(lambda x: lemmatize(x))\n",
        "test['Sent']= test['Sent'].apply(lambda x: lemmatize(x))"
      ],
      "execution_count": 0,
      "outputs": []
    },
    {
      "cell_type": "code",
      "metadata": {
        "id": "yOHUhc_tZKrV",
        "colab_type": "code",
        "outputId": "21480a00-2f9e-4ee9-a977-0965526ffd5e",
        "colab": {
          "base_uri": "https://localhost:8080/",
          "height": 34
        }
      },
      "source": [
        "from keras.preprocessing.text import Tokenizer\n",
        "token=Tokenizer()\n",
        "token.fit_on_texts(train['Phrase'].values)"
      ],
      "execution_count": 16,
      "outputs": [
        {
          "output_type": "stream",
          "text": [
            "Using TensorFlow backend.\n"
          ],
          "name": "stderr"
        }
      ]
    },
    {
      "cell_type": "code",
      "metadata": {
        "id": "TL45WTJGZtDD",
        "colab_type": "code",
        "colab": {}
      },
      "source": [
        "train['vectors']=token.texts_to_sequences(train['Phrase'])\n",
        "test['vectors']=token.texts_to_sequences(test['Sent'])\n",
        "#print(train['vectors'][0:5])"
      ],
      "execution_count": 0,
      "outputs": []
    },
    {
      "cell_type": "code",
      "metadata": {
        "id": "JNCxirvQdAWo",
        "colab_type": "code",
        "colab": {}
      },
      "source": [
        "from tensorflow.keras.preprocessing.sequence import pad_sequences\n",
        "len_train = max([len(s.split()) for s in train['Phrase']])\n",
        "len_test = max([len(s.split()) for s in test['Sent']])\n",
        "if len_train>len_test:\n",
        "  max_length = len_train\n",
        "else:\n",
        "  max_length = len_test\n",
        "train_vectors = pad_sequences(train['vectors'], max_length)\n",
        "test_vectors = pad_sequences(test['vectors'], max_length)\n",
        "#print(train_vectors.shape)\n"
      ],
      "execution_count": 0,
      "outputs": []
    },
    {
      "cell_type": "code",
      "metadata": {
        "id": "Zw2QWDqUv3Sl",
        "colab_type": "code",
        "outputId": "b43adcdc-41b3-414a-e981-e8b7c3ac536a",
        "colab": {
          "base_uri": "https://localhost:8080/",
          "height": 140
        }
      },
      "source": [
        "from keras.utils import to_categorical\n",
        "target=train.Sentiment.values\n",
        "labels=to_categorical(target-1)\n",
        "num_classes=labels.shape[1]\n",
        "print(labels)\n",
        "from sklearn.model_selection import train_test_split\n",
        "x_train,x_val,y_train,y_val= train_test_split(train_vectors,labels,test_size=0.2,random_state=4)"
      ],
      "execution_count": 19,
      "outputs": [
        {
          "output_type": "stream",
          "text": [
            "[[1. 0. 0.]\n",
            " [0. 1. 0.]\n",
            " [0. 1. 0.]\n",
            " ...\n",
            " [0. 0. 1.]\n",
            " [0. 1. 0.]\n",
            " [0. 1. 0.]]\n"
          ],
          "name": "stdout"
        }
      ]
    },
    {
      "cell_type": "code",
      "metadata": {
        "id": "YTbYYW4slIip",
        "colab_type": "code",
        "colab": {}
      },
      "source": [
        "from tensorflow.keras.models import Sequential\n",
        "from tensorflow.keras.layers import Dense, Embedding,GlobalAveragePooling1D\n"
      ],
      "execution_count": 0,
      "outputs": []
    },
    {
      "cell_type": "code",
      "metadata": {
        "id": "rr5ub6v_lgKJ",
        "colab_type": "code",
        "outputId": "3e651583-936a-4d5c-a890-39a5c9fe3169",
        "colab": {
          "base_uri": "https://localhost:8080/",
          "height": 442
        }
      },
      "source": [
        "EMBEDDING_DIM = 100\n",
        "unknown = len(token.word_index)+1\n",
        "model = Sequential()\n",
        "model.add(Embedding(unknown, EMBEDDING_DIM, input_length = max_length))\n",
        "model.add(GlobalAveragePooling1D())\n",
        "model.add(Dense(50, activation = 'relu'))\n",
        "model.add(Dense(3, activation = 'softmax'))\n",
        "model.summary()"
      ],
      "execution_count": 21,
      "outputs": [
        {
          "output_type": "stream",
          "text": [
            "WARNING: Logging before flag parsing goes to stderr.\n",
            "W0824 16:30:14.563971 139632272365440 deprecation.py:506] From /usr/local/lib/python3.6/dist-packages/tensorflow/python/keras/initializers.py:119: calling RandomUniform.__init__ (from tensorflow.python.ops.init_ops) with dtype is deprecated and will be removed in a future version.\n",
            "Instructions for updating:\n",
            "Call initializer instance with the dtype argument instead of passing it to the constructor\n",
            "W0824 16:30:14.590100 139632272365440 deprecation.py:506] From /usr/local/lib/python3.6/dist-packages/tensorflow/python/ops/init_ops.py:1251: calling VarianceScaling.__init__ (from tensorflow.python.ops.init_ops) with dtype is deprecated and will be removed in a future version.\n",
            "Instructions for updating:\n",
            "Call initializer instance with the dtype argument instead of passing it to the constructor\n"
          ],
          "name": "stderr"
        },
        {
          "output_type": "stream",
          "text": [
            "Model: \"sequential\"\n",
            "_________________________________________________________________\n",
            "Layer (type)                 Output Shape              Param #   \n",
            "=================================================================\n",
            "embedding (Embedding)        (None, 30, 100)           1239800   \n",
            "_________________________________________________________________\n",
            "global_average_pooling1d (Gl (None, 100)               0         \n",
            "_________________________________________________________________\n",
            "dense (Dense)                (None, 50)                5050      \n",
            "_________________________________________________________________\n",
            "dense_1 (Dense)              (None, 3)                 153       \n",
            "=================================================================\n",
            "Total params: 1,245,003\n",
            "Trainable params: 1,245,003\n",
            "Non-trainable params: 0\n",
            "_________________________________________________________________\n"
          ],
          "name": "stdout"
        }
      ]
    },
    {
      "cell_type": "code",
      "metadata": {
        "id": "vki45NMAmf7j",
        "colab_type": "code",
        "colab": {}
      },
      "source": [
        "model.compile(optimizer='adam',\n",
        "              loss='binary_crossentropy',\n",
        "              metrics=['acc'])"
      ],
      "execution_count": 0,
      "outputs": []
    },
    {
      "cell_type": "code",
      "metadata": {
        "id": "OSCgoGWZnwqh",
        "colab_type": "code",
        "outputId": "d4ae13ba-0d8f-4bff-e99f-b12ad13a3df6",
        "colab": {
          "base_uri": "https://localhost:8080/",
          "height": 283
        }
      },
      "source": [
        "history = model.fit(x_train,\n",
        "                    y_train,\n",
        "                    epochs = 5,\n",
        "                    batch_size = 512,\n",
        "                    validation_data = (x_val,y_val),\n",
        "                    verbose = 1)\n"
      ],
      "execution_count": 23,
      "outputs": [
        {
          "output_type": "stream",
          "text": [
            "Train on 123700 samples, validate on 30925 samples\n"
          ],
          "name": "stdout"
        },
        {
          "output_type": "stream",
          "text": [
            "W0824 16:30:14.996410 139632272365440 deprecation.py:323] From /usr/local/lib/python3.6/dist-packages/tensorflow/python/ops/math_grad.py:1250: add_dispatch_support.<locals>.wrapper (from tensorflow.python.ops.array_ops) is deprecated and will be removed in a future version.\n",
            "Instructions for updating:\n",
            "Use tf.where in 2.0, which has the same broadcast rule as np.where\n"
          ],
          "name": "stderr"
        },
        {
          "output_type": "stream",
          "text": [
            "Epoch 1/5\n",
            "123700/123700 [==============================] - 6s 45us/sample - loss: 0.5657 - acc: 0.7153 - val_loss: 0.4905 - val_acc: 0.7692\n",
            "Epoch 2/5\n",
            "123700/123700 [==============================] - 5s 42us/sample - loss: 0.4367 - acc: 0.8014 - val_loss: 0.4221 - val_acc: 0.8109\n",
            "Epoch 3/5\n",
            "123700/123700 [==============================] - 5s 43us/sample - loss: 0.3875 - acc: 0.8306 - val_loss: 0.4082 - val_acc: 0.8221\n",
            "Epoch 4/5\n",
            "123700/123700 [==============================] - 5s 43us/sample - loss: 0.3658 - acc: 0.8416 - val_loss: 0.4025 - val_acc: 0.8250\n",
            "Epoch 5/5\n",
            "123700/123700 [==============================] - 5s 43us/sample - loss: 0.3537 - acc: 0.8482 - val_loss: 0.4053 - val_acc: 0.8260\n"
          ],
          "name": "stdout"
        }
      ]
    },
    {
      "cell_type": "code",
      "metadata": {
        "id": "ICkDh_6ppA8J",
        "colab_type": "code",
        "outputId": "30f7085a-0180-45bc-bba0-9d15490764b1",
        "colab": {
          "base_uri": "https://localhost:8080/",
          "height": 52
        }
      },
      "source": [
        "results = model.evaluate(x_train,y_train)\n",
        "print(\"Training Accuracy\",results[1])\n"
      ],
      "execution_count": 24,
      "outputs": [
        {
          "output_type": "stream",
          "text": [
            "123700/123700 [==============================] - 4s 30us/sample - loss: 0.3360 - acc: 0.8564\n",
            "Training Accuracy 0.8563586\n"
          ],
          "name": "stdout"
        }
      ]
    },
    {
      "cell_type": "code",
      "metadata": {
        "id": "QXCXrxUOwMgA",
        "colab_type": "code",
        "colab": {}
      },
      "source": [
        "predict = model.predict_classes(test_vectors)\n"
      ],
      "execution_count": 0,
      "outputs": []
    },
    {
      "cell_type": "code",
      "metadata": {
        "id": "mGga4L4p02dC",
        "colab_type": "code",
        "colab": {}
      },
      "source": [
        "import csv\n",
        "output = pd.DataFrame(columns=['Phrases','Sentiment'])\n",
        "sent=[]\n",
        "label=[]\n",
        "for i in range(test.shape[0]):\n",
        "  sent.append(test['Phrase'][i])\n",
        "  label.append(predict[i]+1)\n",
        "output['Phrases'] = sent\n",
        "output['Label'] = label\n",
        "#output.to_csv(\"/content/ann_sa.csv\")\n"
      ],
      "execution_count": 0,
      "outputs": []
    }
  ]
}